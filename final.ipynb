{
 "cells": [
  {
   "cell_type": "code",
   "execution_count": 2,
   "metadata": {},
   "outputs": [],
   "source": [
    "import requests\n",
    "import pandas as pd\n",
    "import numpy as np\n",
    "api_url = 'https://api.planetterp.com/v1'"
   ]
  },
  {
   "cell_type": "code",
   "execution_count": 26,
   "metadata": {},
   "outputs": [
    {
     "ename": "AttributeError",
     "evalue": "'dict' object has no attribute 'replace'",
     "output_type": "error",
     "traceback": [
      "\u001b[1;31m---------------------------------------------------------------------------\u001b[0m",
      "\u001b[1;31mAttributeError\u001b[0m                            Traceback (most recent call last)",
      "\u001b[1;32md:\\UMD\\CMSC320\\spring2022\\cmsc320-final\\final.ipynb Cell 2'\u001b[0m in \u001b[0;36m<cell line: 13>\u001b[1;34m()\u001b[0m\n\u001b[0;32m     <a href='vscode-notebook-cell:/d%3A/UMD/CMSC320/spring2022/cmsc320-final/final.ipynb#ch0000001?line=14'>15</a>\u001b[0m courses \u001b[39m=\u001b[39m response\u001b[39m.\u001b[39mjson()\n\u001b[0;32m     <a href='vscode-notebook-cell:/d%3A/UMD/CMSC320/spring2022/cmsc320-final/final.ipynb#ch0000001?line=15'>16</a>\u001b[0m \u001b[39m# remove newlines and html tags\u001b[39;00m\n\u001b[1;32m---> <a href='vscode-notebook-cell:/d%3A/UMD/CMSC320/spring2022/cmsc320-final/final.ipynb#ch0000001?line=16'>17</a>\u001b[0m courses \u001b[39m=\u001b[39m [course\u001b[39m.\u001b[39mreplace(\u001b[39m'\u001b[39m\u001b[39m\\n\u001b[39;00m\u001b[39m'\u001b[39m, \u001b[39m'\u001b[39m\u001b[39m'\u001b[39m)\u001b[39m.\u001b[39mreplace(\u001b[39m'\u001b[39m\u001b[39m<br>\u001b[39m\u001b[39m'\u001b[39m, \u001b[39m'\u001b[39m\u001b[39m'\u001b[39m)\u001b[39m.\u001b[39mreplace(\u001b[39m'\u001b[39m\u001b[39m<br/>\u001b[39m\u001b[39m'\u001b[39m, \u001b[39m'\u001b[39m\u001b[39m'\u001b[39m)\u001b[39m.\u001b[39mreplace(\u001b[39m'\u001b[39m\u001b[39m<br />\u001b[39m\u001b[39m'\u001b[39m, \u001b[39m'\u001b[39m\u001b[39m'\u001b[39m) \u001b[39mfor\u001b[39;00m course \u001b[39min\u001b[39;00m courses]\n\u001b[0;32m     <a href='vscode-notebook-cell:/d%3A/UMD/CMSC320/spring2022/cmsc320-final/final.ipynb#ch0000001?line=17'>18</a>\u001b[0m \u001b[39mif\u001b[39;00m (\u001b[39mlen\u001b[39m(courses) \u001b[39m==\u001b[39m \u001b[39m0\u001b[39m):\n\u001b[0;32m     <a href='vscode-notebook-cell:/d%3A/UMD/CMSC320/spring2022/cmsc320-final/final.ipynb#ch0000001?line=18'>19</a>\u001b[0m     \u001b[39mbreak\u001b[39;00m\n",
      "\u001b[1;32md:\\UMD\\CMSC320\\spring2022\\cmsc320-final\\final.ipynb Cell 2'\u001b[0m in \u001b[0;36m<listcomp>\u001b[1;34m(.0)\u001b[0m\n\u001b[0;32m     <a href='vscode-notebook-cell:/d%3A/UMD/CMSC320/spring2022/cmsc320-final/final.ipynb#ch0000001?line=14'>15</a>\u001b[0m courses \u001b[39m=\u001b[39m response\u001b[39m.\u001b[39mjson()\n\u001b[0;32m     <a href='vscode-notebook-cell:/d%3A/UMD/CMSC320/spring2022/cmsc320-final/final.ipynb#ch0000001?line=15'>16</a>\u001b[0m \u001b[39m# remove newlines and html tags\u001b[39;00m\n\u001b[1;32m---> <a href='vscode-notebook-cell:/d%3A/UMD/CMSC320/spring2022/cmsc320-final/final.ipynb#ch0000001?line=16'>17</a>\u001b[0m courses \u001b[39m=\u001b[39m [course\u001b[39m.\u001b[39;49mreplace(\u001b[39m'\u001b[39m\u001b[39m\\n\u001b[39;00m\u001b[39m'\u001b[39m, \u001b[39m'\u001b[39m\u001b[39m'\u001b[39m)\u001b[39m.\u001b[39mreplace(\u001b[39m'\u001b[39m\u001b[39m<br>\u001b[39m\u001b[39m'\u001b[39m, \u001b[39m'\u001b[39m\u001b[39m'\u001b[39m)\u001b[39m.\u001b[39mreplace(\u001b[39m'\u001b[39m\u001b[39m<br/>\u001b[39m\u001b[39m'\u001b[39m, \u001b[39m'\u001b[39m\u001b[39m'\u001b[39m)\u001b[39m.\u001b[39mreplace(\u001b[39m'\u001b[39m\u001b[39m<br />\u001b[39m\u001b[39m'\u001b[39m, \u001b[39m'\u001b[39m\u001b[39m'\u001b[39m) \u001b[39mfor\u001b[39;00m course \u001b[39min\u001b[39;00m courses]\n\u001b[0;32m     <a href='vscode-notebook-cell:/d%3A/UMD/CMSC320/spring2022/cmsc320-final/final.ipynb#ch0000001?line=17'>18</a>\u001b[0m \u001b[39mif\u001b[39;00m (\u001b[39mlen\u001b[39m(courses) \u001b[39m==\u001b[39m \u001b[39m0\u001b[39m):\n\u001b[0;32m     <a href='vscode-notebook-cell:/d%3A/UMD/CMSC320/spring2022/cmsc320-final/final.ipynb#ch0000001?line=18'>19</a>\u001b[0m     \u001b[39mbreak\u001b[39;00m\n",
      "\u001b[1;31mAttributeError\u001b[0m: 'dict' object has no attribute 'replace'"
     ]
    }
   ],
   "source": [
    "# response = requests.get(api_url + \"/course?name=CMSC351\")\n",
    "# print(response)\n",
    "# # print(response.headers['Content-Type'])\n",
    "# print(response.json())\n",
    "\n",
    "# 0=101 19=402 20 = 407 39 = 498T 40 = 498W 42 = end\n",
    "\n",
    "\n",
    "# get all courses into a dataframe\n",
    "offset = 0\n",
    "df = pd.DataFrame()\n",
    "while (True):\n",
    "    response = requests.get(api_url + \"/courses?department=JAPN&reviews=true&limit=1000&offset=\" + str(offset))\n",
    "    \n",
    "    courses = response.json()\n",
    "    if (len(courses) == 0):\n",
    "        break\n",
    "    # concat courses into a dataframe\n",
    "    df = pd.concat([df, pd.DataFrame(courses)], ignore_index=True)\n",
    "    offset += 1000\n",
    "\n",
    "# write dataframe to csv\n",
    "df = df.replace(r'\\n',' ', regex=True) # remove newlines\n",
    "df.to_csv('courses.csv', index=False)\n",
    "\n",
    "df.to_csv('courses.csv')\n"
   ]
  },
  {
   "cell_type": "code",
   "execution_count": 24,
   "metadata": {},
   "outputs": [
    {
     "data": {
      "text/plain": [
       "{'professor': 'Etsuko Yamakita',\n",
       " 'course': 'JAPN201',\n",
       " 'review': \"I really enjoy Yamakita-sensei's class. She's a personable teacher, but she does keep her home life a little more private than some of the other teachers. \\n\\r\\nHer grading can be a little subjective at times (each quiz/test seems to have a random number of total points assigned to it, leading some of the students to believe it's possible to get a negative score). Especially the translations - things that mean exactly (or almost) the same thing in English are wrong if it's not the set formula that she taught. This occasionally leads to sentences that sound really awkward in English. A lot of students were complaining about her kanji quizzes, but I've never had a problem with them. \\n\\r\\nThe way she presents exams is also a little frustrating because she gives them to us in parts. So we must completely finish part A before we receive part B. This makes pacing impossible because if you're stuck on something difficult, it's not like you can come back to it. Therefore, most people make stupid mistakes on the translation and utilization sections.\\n\\r\\nI put my grade expected as a B, but it might be an A because I'm literally right on the edge between the two. I think I have an 88 or an 89 right now, but based on my speech presentation, oral interview and final, it could go up. I'll be taking her course next semester as well.\",\n",
       " 'rating': 5,\n",
       " 'expected_grade': 'B',\n",
       " 'created': '2011-12-14T14:19:00'}"
      ]
     },
     "execution_count": 24,
     "metadata": {},
     "output_type": "execute_result"
    }
   ],
   "source": [
    "# get reviews for 101 from dataframe\n",
    "df[df['course_number'] == \"201\"][\"reviews\"].values[0][0]"
   ]
  }
 ],
 "metadata": {
  "interpreter": {
   "hash": "23dbe966ab306875e8a6bc63b78d46caa534ac550af9086db0112de72db5c947"
  },
  "kernelspec": {
   "display_name": "Python 3.9.7 ('cmsc320')",
   "language": "python",
   "name": "python3"
  },
  "language_info": {
   "codemirror_mode": {
    "name": "ipython",
    "version": 3
   },
   "file_extension": ".py",
   "mimetype": "text/x-python",
   "name": "python",
   "nbconvert_exporter": "python",
   "pygments_lexer": "ipython3",
   "version": "3.9.7"
  },
  "orig_nbformat": 4
 },
 "nbformat": 4,
 "nbformat_minor": 2
}
